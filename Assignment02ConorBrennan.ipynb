{
 "cells": [
  {
   "cell_type": "code",
   "id": "initial_id",
   "metadata": {
    "collapsed": true,
    "ExecuteTime": {
     "end_time": "2025-05-22T17:21:00.891026Z",
     "start_time": "2025-05-22T17:21:00.876935Z"
    }
   },
   "source": [
    "print('ASSIGNMENT 02')\n",
    "print('\\nProblem 1')\n",
    "words = [\"Hello\", \"there\", \"Python\", \"is\",\"fun\", \"!\"]\n",
    "fruits = [\"Apple\", \"Banana\", \"Pineapple\", \"Orange\"]\n",
    "prices = [3,1,2,3]\n",
    "print('\\nProblem 1 Part 1')\n",
    "words_len_for_loop = []\n",
    "for word in words:\n",
    "    words_len_for_loop.append([word, len(word)])\n",
    "print(words_len_for_loop)\n",
    "\n",
    "print('\\nProblem 1 Part 2')\n",
    "words_len_lc = [[word, len(word)] for word in words]\n",
    "print(words_len_lc)\n",
    "\n",
    "print('\\nProblem 1 Part 3')\n",
    "fruits_info_for_loop = []\n",
    "for i in range(len(fruits)):\n",
    "    fruits_info_for_loop.append([fruits[i], prices[i]])\n",
    "print(fruits_info_for_loop)\n",
    "print('\\nProblem 1 Part 4')\n",
    "fruits_info_lc = [[fruit, price] for fruit,price in zip(fruits, prices)]\n",
    "print(fruits_info_lc)"
   ],
   "outputs": [
    {
     "name": "stdout",
     "output_type": "stream",
     "text": [
      "ASSIGNMENT 02\n",
      "\n",
      "Problem 1\n",
      "\n",
      "Problem 1 Part 1\n",
      "[['Hello', 5], ['there', 5], ['Python', 6], ['is', 2], ['fun', 3], ['!', 1]]\n",
      "\n",
      "Problem 1 Part 2\n",
      "[['Hello', 5], ['there', 5], ['Python', 6], ['is', 2], ['fun', 3], ['!', 1]]\n",
      "\n",
      "Problem 1 Part 3\n",
      "[['Apple', 3], ['Banana', 1], ['Pineapple', 2], ['Orange', 3]]\n",
      "\n",
      "Problem 1 Part 4\n",
      "[['Apple', 3], ['Banana', 1], ['Pineapple', 2], ['Orange', 3]]\n"
     ]
    }
   ],
   "execution_count": 10
  },
  {
   "metadata": {
    "ExecuteTime": {
     "end_time": "2025-05-23T02:31:20.279185Z",
     "start_time": "2025-05-23T02:31:20.270873Z"
    }
   },
   "cell_type": "code",
   "source": [
    "print('\\nProblem 2')\n",
    "print('\\nProblem 2 Part 1')\n",
    "brian = {\n",
    "    \"costume\": \"wizard\",\n",
    "    \"treats\": []\n",
    "}\n",
    "\n",
    "patrick = {\n",
    "    \"costume\": \"vampire\",\n",
    "    \"treats\": []\n",
    "}\n",
    "\n",
    "simone = {\n",
    "    \"costume\": \"mummy\",\n",
    "    \"treats\": []\n",
    "}\n",
    "print(brian)\n",
    "print(patrick)\n",
    "print(simone)\n",
    "\n",
    "print('\\nProblem 2 Part 2')\n",
    "friends_dict = {\n",
    "    \"brian\": brian,\n",
    "    \"patrick\": patrick,\n",
    "    \"simone\": simone\n",
    "}\n",
    "print(friends_dict.items())\n",
    "\n",
    "print('\\nProblem 2 Part 3')\n",
    "candies = [\"skittles\", \"snickers\", \"candy corn\"]\n",
    "\n",
    "for friend in friends_dict.values():\n",
    "    friend[\"treats\"].extend(candies)\n",
    "for name, info in friends_dict.items():\n",
    "    print(f\"{name.title()} now has treats: {info['treats']}\")\n",
    "\n",
    "print('\\nProblem 2 Part 4')\n",
    "extra_candies = [\"hershey bar\", \"starburst\", \"tootsie roll\"]\n",
    "friends_dict[\"patrick\"][\"treats\"].extend(extra_candies)\n",
    "print(\"Patrick's treats:\", friends_dict[\"patrick\"][\"treats\"])"
   ],
   "id": "11822d3b159e860a",
   "outputs": [
    {
     "name": "stdout",
     "output_type": "stream",
     "text": [
      "\n",
      "Problem 2\n",
      "\n",
      "Problem 2 Part 1\n",
      "{'costume': 'wizard', 'treats': []}\n",
      "{'costume': 'vampire', 'treats': []}\n",
      "{'costume': 'mummy', 'treats': []}\n",
      "\n",
      "Problem 2 Part 2\n",
      "dict_items([('brian', {'costume': 'wizard', 'treats': []}), ('patrick', {'costume': 'vampire', 'treats': []}), ('simone', {'costume': 'mummy', 'treats': []})])\n",
      "\n",
      "Problem 2 Part 3\n",
      "Brian now has treats: ['skittles', 'snickers', 'candy corn']\n",
      "Patrick now has treats: ['skittles', 'snickers', 'candy corn']\n",
      "Simone now has treats: ['skittles', 'snickers', 'candy corn']\n",
      "\n",
      "Problem 2 Part 4\n",
      "Patrick's treats: ['skittles', 'snickers', 'candy corn', 'hershey bar', 'starburst', 'tootsie roll']\n"
     ]
    }
   ],
   "execution_count": 3
  },
  {
   "metadata": {
    "ExecuteTime": {
     "end_time": "2025-05-23T02:49:45.147193Z",
     "start_time": "2025-05-23T02:49:45.051255Z"
    }
   },
   "cell_type": "code",
   "source": [
    "print('\\nProblem 3')\n",
    "print('\\nProblem 3 Part 1')\n",
    "with open(\"frankenstein.txt\", \"r\") as file:\n",
    "    text = file.read()\n",
    "\n",
    "list_of_words = text.split()\n",
    "list_of_unique_words = list(set(list_of_words))\n",
    "print(\"Total words:\", len(list_of_words))\n",
    "print(\"Unique words:\", len(list_of_unique_words))\n",
    "\n",
    "print('\\nProblem 3 Part 2')\n",
    "word2count = {word: 0 for word in list_of_unique_words}\n",
    "\n",
    "print('\\nProblem 3 Part 3')\n",
    "for word in list_of_words:\n",
    "    word2count[word] += 1\n",
    "print(word2count.get(\"walton\"))\n",
    "print(word2count.get(\"from\"))\n",
    "\n",
    "print('\\nProblem 3 Part 4')\n",
    "most_frequent_word = max(word2count, key=word2count.get)\n",
    "print(\"Most frequent word:\", most_frequent_word)\n",
    "print(\"Frequency:\", word2count[most_frequent_word])\n",
    "# I don't know what the issue with retrieving the file is. I have tried troubleshooting extensively and I have not been able to identify my error."
   ],
   "id": "dc84d4bc1d38f35d",
   "outputs": [
    {
     "name": "stdout",
     "output_type": "stream",
     "text": [
      "\n",
      "Problem 3\n",
      "\n",
      "Problem 3 Part 1\n"
     ]
    },
    {
     "ename": "FileNotFoundError",
     "evalue": "[Errno 2] No such file or directory: 'E:\\\\frankenstein.txt'",
     "output_type": "error",
     "traceback": [
      "\u001B[31m---------------------------------------------------------------------------\u001B[39m",
      "\u001B[31mFileNotFoundError\u001B[39m                         Traceback (most recent call last)",
      "\u001B[36mCell\u001B[39m\u001B[36m \u001B[39m\u001B[32mIn[5]\u001B[39m\u001B[32m, line 3\u001B[39m\n\u001B[32m      1\u001B[39m \u001B[38;5;28mprint\u001B[39m(\u001B[33m'\u001B[39m\u001B[38;5;130;01m\\n\u001B[39;00m\u001B[33mProblem 3\u001B[39m\u001B[33m'\u001B[39m)\n\u001B[32m      2\u001B[39m \u001B[38;5;28mprint\u001B[39m(\u001B[33m'\u001B[39m\u001B[38;5;130;01m\\n\u001B[39;00m\u001B[33mProblem 3 Part 1\u001B[39m\u001B[33m'\u001B[39m)\n\u001B[32m----> \u001B[39m\u001B[32m3\u001B[39m \u001B[38;5;28;01mwith\u001B[39;00m \u001B[38;5;28;43mopen\u001B[39;49m\u001B[43m(\u001B[49m\u001B[33;43m\"\u001B[39;49m\u001B[33;43mE:\u001B[39;49m\u001B[38;5;130;43;01m\\\\\u001B[39;49;00m\u001B[33;43mfrankenstein.txt\u001B[39;49m\u001B[33;43m\"\u001B[39;49m\u001B[43m,\u001B[49m\u001B[43m \u001B[49m\u001B[33;43m\"\u001B[39;49m\u001B[33;43mr\u001B[39;49m\u001B[33;43m\"\u001B[39;49m\u001B[43m)\u001B[49m \u001B[38;5;28;01mas\u001B[39;00m file:\n\u001B[32m      4\u001B[39m     text = file.read()\n\u001B[32m      6\u001B[39m list_of_words = text.split()\n",
      "\u001B[36mFile \u001B[39m\u001B[32m~/PyCharmMiscProject/.venv/lib/python3.13/site-packages/IPython/core/interactiveshell.py:326\u001B[39m, in \u001B[36m_modified_open\u001B[39m\u001B[34m(file, *args, **kwargs)\u001B[39m\n\u001B[32m    319\u001B[39m \u001B[38;5;28;01mif\u001B[39;00m file \u001B[38;5;129;01min\u001B[39;00m {\u001B[32m0\u001B[39m, \u001B[32m1\u001B[39m, \u001B[32m2\u001B[39m}:\n\u001B[32m    320\u001B[39m     \u001B[38;5;28;01mraise\u001B[39;00m \u001B[38;5;167;01mValueError\u001B[39;00m(\n\u001B[32m    321\u001B[39m         \u001B[33mf\u001B[39m\u001B[33m\"\u001B[39m\u001B[33mIPython won\u001B[39m\u001B[33m'\u001B[39m\u001B[33mt let you open fd=\u001B[39m\u001B[38;5;132;01m{\u001B[39;00mfile\u001B[38;5;132;01m}\u001B[39;00m\u001B[33m by default \u001B[39m\u001B[33m\"\u001B[39m\n\u001B[32m    322\u001B[39m         \u001B[33m\"\u001B[39m\u001B[33mas it is likely to crash IPython. If you know what you are doing, \u001B[39m\u001B[33m\"\u001B[39m\n\u001B[32m    323\u001B[39m         \u001B[33m\"\u001B[39m\u001B[33myou can use builtins\u001B[39m\u001B[33m'\u001B[39m\u001B[33m open.\u001B[39m\u001B[33m\"\u001B[39m\n\u001B[32m    324\u001B[39m     )\n\u001B[32m--> \u001B[39m\u001B[32m326\u001B[39m \u001B[38;5;28;01mreturn\u001B[39;00m \u001B[43mio_open\u001B[49m\u001B[43m(\u001B[49m\u001B[43mfile\u001B[49m\u001B[43m,\u001B[49m\u001B[43m \u001B[49m\u001B[43m*\u001B[49m\u001B[43margs\u001B[49m\u001B[43m,\u001B[49m\u001B[43m \u001B[49m\u001B[43m*\u001B[49m\u001B[43m*\u001B[49m\u001B[43mkwargs\u001B[49m\u001B[43m)\u001B[49m\n",
      "\u001B[31mFileNotFoundError\u001B[39m: [Errno 2] No such file or directory: 'E:\\\\frankenstein.txt'"
     ]
    }
   ],
   "execution_count": 5
  },
  {
   "metadata": {
    "ExecuteTime": {
     "end_time": "2025-05-23T03:20:54.288869Z",
     "start_time": "2025-05-23T03:20:54.193015Z"
    }
   },
   "cell_type": "code",
   "source": [
    "print('\\nProblem 4')\n",
    "categories = [\"rating\", \"genre\", \"actors\", \"year\", \"title\"]\n",
    "movie_dictionary = {}\n",
    "\n",
    "with open(\"movie_data.txt\", \"r\") as file:\n",
    "    for line in file:\n",
    "        parts = line.strip().split(\",\")\n",
    "        if len(parts) != 3:\n",
    "            continue\n",
    "        movie_id, category, value = parts\n",
    "\n",
    "        if movie_id not in movie_dictionary:\n",
    "            movie_dictionary[movie_id] = {}\n",
    "            for cat in categories:\n",
    "                if cat in [\"genre\", \"actors\"]:\n",
    "                    movie_dictionary[movie_id][cat] = [\"missing\"]\n",
    "                else:\n",
    "                    movie_dictionary[movie_id][cat] = \"missing\"\n",
    "\n",
    "        if category in [\"genre\", \"actors\"]:\n",
    "            movie_dictionary[movie_id][category] = value.split(\",\")\n",
    "        elif category in categories:\n",
    "            movie_dictionary[movie_id][category] = value\n",
    "\n",
    "from pprint import pprint\n",
    "print(\"tt0107207:\")\n",
    "pprint(movie_dictionary[\"tt0107207\"])\n",
    "\n",
    "print(\"\\ntt0120815:\")\n",
    "pprint(movie_dictionary[\"tt0120815\"])\n",
    "# I don't know what the issue with retrieving the file is. I have tried troubleshooting extensively and I have not been able to identify my error."
   ],
   "id": "6417375b92cdeb0a",
   "outputs": [
    {
     "name": "stdout",
     "output_type": "stream",
     "text": [
      "\n",
      "Problem 4\n"
     ]
    },
    {
     "ename": "FileNotFoundError",
     "evalue": "[Errno 2] No such file or directory: 'movie_data.txt'",
     "output_type": "error",
     "traceback": [
      "\u001B[31m---------------------------------------------------------------------------\u001B[39m",
      "\u001B[31mFileNotFoundError\u001B[39m                         Traceback (most recent call last)",
      "\u001B[36mCell\u001B[39m\u001B[36m \u001B[39m\u001B[32mIn[6]\u001B[39m\u001B[32m, line 5\u001B[39m\n\u001B[32m      2\u001B[39m categories = [\u001B[33m\"\u001B[39m\u001B[33mrating\u001B[39m\u001B[33m\"\u001B[39m, \u001B[33m\"\u001B[39m\u001B[33mgenre\u001B[39m\u001B[33m\"\u001B[39m, \u001B[33m\"\u001B[39m\u001B[33mactors\u001B[39m\u001B[33m\"\u001B[39m, \u001B[33m\"\u001B[39m\u001B[33myear\u001B[39m\u001B[33m\"\u001B[39m, \u001B[33m\"\u001B[39m\u001B[33mtitle\u001B[39m\u001B[33m\"\u001B[39m]\n\u001B[32m      3\u001B[39m movie_dictionary = {}\n\u001B[32m----> \u001B[39m\u001B[32m5\u001B[39m \u001B[38;5;28;01mwith\u001B[39;00m \u001B[38;5;28;43mopen\u001B[39;49m\u001B[43m(\u001B[49m\u001B[33;43m\"\u001B[39;49m\u001B[33;43mmovie_data.txt\u001B[39;49m\u001B[33;43m\"\u001B[39;49m\u001B[43m,\u001B[49m\u001B[43m \u001B[49m\u001B[33;43m\"\u001B[39;49m\u001B[33;43mr\u001B[39;49m\u001B[33;43m\"\u001B[39;49m\u001B[43m)\u001B[49m \u001B[38;5;28;01mas\u001B[39;00m file:\n\u001B[32m      6\u001B[39m     \u001B[38;5;28;01mfor\u001B[39;00m line \u001B[38;5;129;01min\u001B[39;00m file:\n\u001B[32m      7\u001B[39m         parts = line.strip().split(\u001B[33m\"\u001B[39m\u001B[33m,\u001B[39m\u001B[33m\"\u001B[39m)\n",
      "\u001B[36mFile \u001B[39m\u001B[32m~/PyCharmMiscProject/.venv/lib/python3.13/site-packages/IPython/core/interactiveshell.py:326\u001B[39m, in \u001B[36m_modified_open\u001B[39m\u001B[34m(file, *args, **kwargs)\u001B[39m\n\u001B[32m    319\u001B[39m \u001B[38;5;28;01mif\u001B[39;00m file \u001B[38;5;129;01min\u001B[39;00m {\u001B[32m0\u001B[39m, \u001B[32m1\u001B[39m, \u001B[32m2\u001B[39m}:\n\u001B[32m    320\u001B[39m     \u001B[38;5;28;01mraise\u001B[39;00m \u001B[38;5;167;01mValueError\u001B[39;00m(\n\u001B[32m    321\u001B[39m         \u001B[33mf\u001B[39m\u001B[33m\"\u001B[39m\u001B[33mIPython won\u001B[39m\u001B[33m'\u001B[39m\u001B[33mt let you open fd=\u001B[39m\u001B[38;5;132;01m{\u001B[39;00mfile\u001B[38;5;132;01m}\u001B[39;00m\u001B[33m by default \u001B[39m\u001B[33m\"\u001B[39m\n\u001B[32m    322\u001B[39m         \u001B[33m\"\u001B[39m\u001B[33mas it is likely to crash IPython. If you know what you are doing, \u001B[39m\u001B[33m\"\u001B[39m\n\u001B[32m    323\u001B[39m         \u001B[33m\"\u001B[39m\u001B[33myou can use builtins\u001B[39m\u001B[33m'\u001B[39m\u001B[33m open.\u001B[39m\u001B[33m\"\u001B[39m\n\u001B[32m    324\u001B[39m     )\n\u001B[32m--> \u001B[39m\u001B[32m326\u001B[39m \u001B[38;5;28;01mreturn\u001B[39;00m \u001B[43mio_open\u001B[49m\u001B[43m(\u001B[49m\u001B[43mfile\u001B[49m\u001B[43m,\u001B[49m\u001B[43m \u001B[49m\u001B[43m*\u001B[49m\u001B[43margs\u001B[49m\u001B[43m,\u001B[49m\u001B[43m \u001B[49m\u001B[43m*\u001B[49m\u001B[43m*\u001B[49m\u001B[43mkwargs\u001B[49m\u001B[43m)\u001B[49m\n",
      "\u001B[31mFileNotFoundError\u001B[39m: [Errno 2] No such file or directory: 'movie_data.txt'"
     ]
    }
   ],
   "execution_count": 6
  }
 ],
 "metadata": {
  "kernelspec": {
   "display_name": "Python 3",
   "language": "python",
   "name": "python3"
  },
  "language_info": {
   "codemirror_mode": {
    "name": "ipython",
    "version": 2
   },
   "file_extension": ".py",
   "mimetype": "text/x-python",
   "name": "python",
   "nbconvert_exporter": "python",
   "pygments_lexer": "ipython2",
   "version": "2.7.6"
  }
 },
 "nbformat": 4,
 "nbformat_minor": 5
}
